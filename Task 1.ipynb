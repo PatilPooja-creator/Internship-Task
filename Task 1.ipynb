{
 "cells": [
  {
   "cell_type": "markdown",
   "id": "ad1d6f6d",
   "metadata": {},
   "source": [
    " # Task 1-Hackerrank Programs"
   ]
  },
  {
   "cell_type": "markdown",
   "id": "0b390c18",
   "metadata": {},
   "source": [
    "## \"Hello, World!\" With Python\n",
    "\n"
   ]
  },
  {
   "cell_type": "code",
   "execution_count": 1,
   "id": "d13f8e84",
   "metadata": {},
   "outputs": [
    {
     "name": "stdout",
     "output_type": "stream",
     "text": [
      "Hello, World!\n"
     ]
    }
   ],
   "source": [
    "print (\"Hello, World!\")"
   ]
  },
  {
   "cell_type": "markdown",
   "id": "1678a823",
   "metadata": {},
   "source": [
    "## Python If-Else\n",
    "\n"
   ]
  },
  {
   "cell_type": "code",
   "execution_count": 2,
   "id": "b0d87fd5",
   "metadata": {},
   "outputs": [
    {
     "name": "stdout",
     "output_type": "stream",
     "text": [
      "3\n",
      "Weird\n"
     ]
    }
   ],
   "source": [
    "import math\n",
    "import os\n",
    "import random\n",
    "import re\n",
    "import sys\n",
    "3\n",
    "\n",
    "\n",
    "\n",
    "if __name__ == '__main__':\n",
    "    n = int(input().strip())\n",
    "\n",
    "    if n % 2 != 0:\n",
    "        print('Weird')\n",
    "    else:\n",
    "        if n >= 2 and n <= 5 :\n",
    "            print('Not Weird')\n",
    "        elif n >= 6 and n <= 20:\n",
    "            print('Weird')\n",
    "        else :\n",
    "            print('Not Weird') \n"
   ]
  },
  {
   "cell_type": "markdown",
   "id": "3599f4b0",
   "metadata": {},
   "source": [
    "## Arithmetic Operators\n",
    "\n"
   ]
  },
  {
   "cell_type": "code",
   "execution_count": 3,
   "id": "9cf59a70",
   "metadata": {},
   "outputs": [
    {
     "name": "stdout",
     "output_type": "stream",
     "text": [
      "3\n",
      "2\n",
      "5\n",
      "1\n",
      "6\n"
     ]
    }
   ],
   "source": [
    "if __name__ == '__main__':\n",
    "    a = int(input())\n",
    "    b = int(input())\n",
    "    addition = a+b\n",
    "    subtraction = a-b\n",
    "    multiplication = a*b\n",
    "    print(addition)\n",
    "    print(subtraction)\n",
    "    print(multiplication)\n",
    "      "
   ]
  },
  {
   "cell_type": "markdown",
   "id": "3502c738",
   "metadata": {},
   "source": [
    "## Python: Division"
   ]
  },
  {
   "cell_type": "code",
   "execution_count": 5,
   "id": "32651e15",
   "metadata": {},
   "outputs": [
    {
     "name": "stdout",
     "output_type": "stream",
     "text": [
      "3\n",
      "4\n",
      "0\n",
      "0.75\n"
     ]
    }
   ],
   "source": [
    "from __future__ import division\n",
    "\n",
    "if __name__ == '__main__':\n",
    "    a = int(input())\n",
    "    b = int(input())\n",
    "    int_result = int(a/b)\n",
    "    float_result = a/b\n",
    "    print(int_result)\n",
    "    print(float_result)"
   ]
  },
  {
   "cell_type": "markdown",
   "id": "b8249391",
   "metadata": {},
   "source": [
    "## Loops\n",
    "\n"
   ]
  },
  {
   "cell_type": "code",
   "execution_count": 6,
   "id": "4450c662",
   "metadata": {},
   "outputs": [
    {
     "name": "stdout",
     "output_type": "stream",
     "text": [
      "5\n",
      "0\n",
      "1\n",
      "4\n",
      "9\n",
      "16\n"
     ]
    }
   ],
   "source": [
    "if __name__ == '__main__':\n",
    "   \n",
    "    n = int(input())\n",
    "    for i in range(n):    \n",
    "        result = i**2 \n",
    "        print(result)"
   ]
  },
  {
   "cell_type": "markdown",
   "id": "d8cbb15e",
   "metadata": {},
   "source": [
    "## Write a function\n",
    "\n"
   ]
  },
  {
   "cell_type": "code",
   "execution_count": 8,
   "id": "a639b6c7",
   "metadata": {},
   "outputs": [],
   "source": [
    "def is_leap(year):\n",
    "    if year%400==0:\n",
    "        return True\n",
    "    elif year%100==0:\n",
    "        return False\n",
    "    elif year%4==0:\n",
    "        return True\n",
    "    elif year%4!=0:\n",
    "        return False\n",
    "    "
   ]
  },
  {
   "cell_type": "code",
   "execution_count": 11,
   "id": "3f8182aa",
   "metadata": {},
   "outputs": [
    {
     "data": {
      "text/plain": [
       "True"
      ]
     },
     "execution_count": 11,
     "metadata": {},
     "output_type": "execute_result"
    }
   ],
   "source": [
    "is_leap(2000)"
   ]
  },
  {
   "cell_type": "markdown",
   "id": "e55c789f",
   "metadata": {},
   "source": [
    "### Print Function\n",
    "\n"
   ]
  },
  {
   "cell_type": "code",
   "execution_count": 12,
   "id": "b6619d8b",
   "metadata": {},
   "outputs": [
    {
     "name": "stdout",
     "output_type": "stream",
     "text": [
      "3\n",
      "123"
     ]
    }
   ],
   "source": [
    "if __name__ == '__main__':\n",
    "    n = int(input())\n",
    "    for i in range(1,n+1):\n",
    "        print(str(i),end=\"\")"
   ]
  }
 ],
 "metadata": {
  "kernelspec": {
   "display_name": "Python 3",
   "language": "python",
   "name": "python3"
  },
  "language_info": {
   "codemirror_mode": {
    "name": "ipython",
    "version": 3
   },
   "file_extension": ".py",
   "mimetype": "text/x-python",
   "name": "python",
   "nbconvert_exporter": "python",
   "pygments_lexer": "ipython3",
   "version": "3.8.8"
  }
 },
 "nbformat": 4,
 "nbformat_minor": 5
}
