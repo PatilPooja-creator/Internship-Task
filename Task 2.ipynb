{
 "cells": [
  {
   "cell_type": "markdown",
   "id": "ac4f9ec2",
   "metadata": {},
   "source": [
    "# Task 2-Basic Data Types and Sets "
   ]
  },
  {
   "cell_type": "markdown",
   "id": "ded1c730",
   "metadata": {},
   "source": [
    "## List Comprehensions"
   ]
  },
  {
   "cell_type": "code",
   "execution_count": 3,
   "id": "44b42fd3",
   "metadata": {},
   "outputs": [
    {
     "name": "stdout",
     "output_type": "stream",
     "text": [
      "Enter Number: 1 \n",
      "Enter Number: 1\n",
      "Enter Number: 1\n",
      "Enter Number: 2\n",
      "[[0, 0, 0], [0, 0, 1], [0, 1, 0], [1, 0, 0], [1, 1, 1]]\n"
     ]
    }
   ],
   "source": [
    "if __name__ == '__main__':\n",
    "    x = int(input(\"Enter Number: \"))\n",
    "    y = int(input(\"Enter Number: \"))\n",
    "    z = int(input(\"Enter Number: \"))\n",
    "    n = int(input(\"Enter Number: \"))\n",
    "    s=[[i,j,k] for i in range (x+1) for j in range(y+1) for k in range(z+1) if i+j+k!=n]\n",
    "    print(s)"
   ]
  },
  {
   "cell_type": "markdown",
   "id": "6f5dd44e",
   "metadata": {},
   "source": [
    "## Nested Lists"
   ]
  },
  {
   "cell_type": "code",
   "execution_count": 12,
   "id": "a1c5cc9b",
   "metadata": {},
   "outputs": [
    {
     "name": "stdout",
     "output_type": "stream",
     "text": [
      "Enter student Number: 3\n",
      "Enter Name: harry\n",
      "Enter Score: 38\n",
      "Enter Name: berry\n",
      "Enter Score: 35\n",
      "Enter Name: Tine\n",
      "Enter Score: 38\n",
      "Tine\n",
      "harry\n"
     ]
    }
   ],
   "source": [
    "if __name__ == '__main__':\n",
    "    students = []\n",
    "    for i in range(int(input(\"Enter student Number: \"))):\n",
    "        name = input(\"Enter Name: \")\n",
    "        score = float(input(\"Enter Score: \"))\n",
    "        students.append([name, score])\n",
    "\n",
    "    students = sorted(students, key = lambda x: x[1])\n",
    "    \n",
    "    second_lowest_score = sorted(list(set([x[1] for x in students])))[1]\n",
    "    desired_students = []\n",
    "    for stu in students:\n",
    "        if stu[1] == second_lowest_score:\n",
    "            desired_students.append(stu[0])\n",
    "    print(\"\\n\".join(sorted(desired_students)))\n"
   ]
  },
  {
   "cell_type": "markdown",
   "id": "e43a7704",
   "metadata": {},
   "source": [
    "## Finding the percentage\n",
    "\n"
   ]
  },
  {
   "cell_type": "code",
   "execution_count": 19,
   "id": "44d941e8",
   "metadata": {},
   "outputs": [
    {
     "name": "stdout",
     "output_type": "stream",
     "text": [
      "Enter Number of Students: 3\n",
      "malika 45 56 67\n",
      "krishna 46 67 78\n",
      "Tina 56 67 34\n",
      "Tina\n",
      "52.33\n"
     ]
    }
   ],
   "source": [
    "if __name__ == '__main__':\n",
    "    n = int(input(\"Enter Number of Students: \"))\n",
    "    marks = {}\n",
    "\n",
    "    for _ in range(n):\n",
    "        name, *line = input().split()\n",
    "        scores = list(map(float, line))\n",
    "        scores=sum(scores)/3\n",
    "        marks[name] = scores\n",
    "    a = input()    \n",
    "    \n",
    "    print('%.2f' % marks[a])"
   ]
  },
  {
   "cell_type": "markdown",
   "id": "010b085f",
   "metadata": {},
   "source": [
    "## Lists\n",
    "\n"
   ]
  },
  {
   "cell_type": "code",
   "execution_count": 23,
   "id": "2e2e8517",
   "metadata": {},
   "outputs": [
    {
     "name": "stdout",
     "output_type": "stream",
     "text": [
      "10\n",
      "insert 8 9\n",
      "insert 3 4\n",
      "insert 6 7\n",
      "print\n",
      "[9, 4, 7]\n",
      "sort\n",
      "print\n",
      "[4, 7, 9]\n",
      "reverse\n",
      "print\n",
      "[9, 7, 4]\n",
      "extend 6 7\n",
      "print\n",
      "[9, 7, 4, 6, 7]\n"
     ]
    }
   ],
   "source": [
    "arr = []\n",
    "for i in range(int(input())):\n",
    "    s = input().split()\n",
    "    for i in range(1,len(s)):\n",
    "        s[i] = int(s[i])\n",
    "        \n",
    "    if s[0] == \"append\":\n",
    "        arr.append(s[1])\n",
    "    elif s[0] == \"extend\":    \n",
    "        arr.extend(s[1:])\n",
    "    elif s[0] == \"insert\":\n",
    "        arr.insert(s[1],s[2])\n",
    "    elif s[0] == \"remove\":\n",
    "        arr.remove(s[1])\n",
    "    elif s[0] == \"pop\":\n",
    "        arr.pop()\n",
    "    elif s[0] == \"index\":\n",
    "        print (arr.index(s[1]))\n",
    "    elif s[0] == \"count\":\n",
    "        print (arr.count(s[1]))\n",
    "    elif s[0] == \"sort\":\n",
    "        arr.sort()\n",
    "    elif s[0] == \"reverse\":\n",
    "        arr.reverse()\n",
    "    elif s[0] == \"print\":\n",
    "        print (arr)\n"
   ]
  },
  {
   "cell_type": "markdown",
   "id": "16b855bf",
   "metadata": {},
   "source": [
    "## Tuples\n",
    "\n"
   ]
  },
  {
   "cell_type": "code",
   "execution_count": 26,
   "id": "b51d5cd5",
   "metadata": {},
   "outputs": [
    {
     "name": "stdout",
     "output_type": "stream",
     "text": [
      "2\n",
      "1 2\n",
      "-3550055125485641917\n"
     ]
    }
   ],
   "source": [
    "if __name__ == '__main__':\n",
    "    n = int(input())\n",
    "    integer_list = map(int, input().split())\n",
    "    t = tuple(integer_list)\n",
    "print(hash(t));"
   ]
  },
  {
   "cell_type": "markdown",
   "id": "c2e9b01e",
   "metadata": {},
   "source": [
    "## Find the Runner-Up Score!"
   ]
  },
  {
   "cell_type": "code",
   "execution_count": 27,
   "id": "d762465b",
   "metadata": {},
   "outputs": [
    {
     "name": "stdout",
     "output_type": "stream",
     "text": [
      "5\n",
      "2 4 5 6 7\n",
      "6\n"
     ]
    }
   ],
   "source": [
    "if __name__ == '__main__':\n",
    "    n = int(input())\n",
    "    arr = map(int, input().split())\n",
    "    print(sorted(list(set(arr)))[-2])"
   ]
  },
  {
   "cell_type": "markdown",
   "id": "8ccdf474",
   "metadata": {},
   "source": [
    "## Introduction to Sets\n",
    "\n"
   ]
  },
  {
   "cell_type": "code",
   "execution_count": 48,
   "id": "07ab2bc8",
   "metadata": {},
   "outputs": [],
   "source": [
    "def average(array):\n",
    "    array=set(array)\n",
    "    return sum(set(array))/len(array)\n",
    "\n"
   ]
  },
  {
   "cell_type": "code",
   "execution_count": 49,
   "id": "d975d651",
   "metadata": {},
   "outputs": [
    {
     "ename": "TypeError",
     "evalue": "'int' object is not iterable",
     "output_type": "error",
     "traceback": [
      "\u001b[1;31m---------------------------------------------------------------------------\u001b[0m",
      "\u001b[1;31mTypeError\u001b[0m                                 Traceback (most recent call last)",
      "\u001b[1;32m<ipython-input-49-3260a63c4e5f>\u001b[0m in \u001b[0;36m<module>\u001b[1;34m\u001b[0m\n\u001b[1;32m----> 1\u001b[1;33m \u001b[0maverage\u001b[0m\u001b[1;33m(\u001b[0m\u001b[1;36m10\u001b[0m\u001b[1;33m)\u001b[0m\u001b[1;33m\u001b[0m\u001b[1;33m\u001b[0m\u001b[0m\n\u001b[0m",
      "\u001b[1;32m<ipython-input-48-90f32fd265b0>\u001b[0m in \u001b[0;36maverage\u001b[1;34m(array)\u001b[0m\n\u001b[0;32m      1\u001b[0m \u001b[1;32mdef\u001b[0m \u001b[0maverage\u001b[0m\u001b[1;33m(\u001b[0m\u001b[0marray\u001b[0m\u001b[1;33m)\u001b[0m\u001b[1;33m:\u001b[0m\u001b[1;33m\u001b[0m\u001b[1;33m\u001b[0m\u001b[0m\n\u001b[1;32m----> 2\u001b[1;33m     \u001b[0marray\u001b[0m\u001b[1;33m=\u001b[0m\u001b[0mset\u001b[0m\u001b[1;33m(\u001b[0m\u001b[0marray\u001b[0m\u001b[1;33m)\u001b[0m\u001b[1;33m\u001b[0m\u001b[1;33m\u001b[0m\u001b[0m\n\u001b[0m\u001b[0;32m      3\u001b[0m     \u001b[1;32mreturn\u001b[0m \u001b[0msum\u001b[0m\u001b[1;33m(\u001b[0m\u001b[0mset\u001b[0m\u001b[1;33m(\u001b[0m\u001b[0marray\u001b[0m\u001b[1;33m)\u001b[0m\u001b[1;33m)\u001b[0m\u001b[1;33m/\u001b[0m\u001b[0mlen\u001b[0m\u001b[1;33m(\u001b[0m\u001b[0marray\u001b[0m\u001b[1;33m)\u001b[0m\u001b[1;33m\u001b[0m\u001b[1;33m\u001b[0m\u001b[0m\n\u001b[0;32m      4\u001b[0m \u001b[1;33m\u001b[0m\u001b[0m\n",
      "\u001b[1;31mTypeError\u001b[0m: 'int' object is not iterable"
     ]
    }
   ],
   "source": [
    "average(10)"
   ]
  },
  {
   "cell_type": "markdown",
   "id": "e785c441",
   "metadata": {},
   "source": [
    "## Symmetric Difference"
   ]
  },
  {
   "cell_type": "code",
   "execution_count": 51,
   "id": "49bf3f6e",
   "metadata": {},
   "outputs": [
    {
     "name": "stdout",
     "output_type": "stream",
     "text": [
      "4 \n",
      "2 4 5 9\n",
      "4\n",
      "2 4 11 12\n",
      "5\n",
      "9\n",
      "11\n",
      "12\n"
     ]
    }
   ],
   "source": [
    "M = int(input())\n",
    "mset = set(map(int, input().split()))\n",
    "N = int(input())\n",
    "nset = set(map(int, input().split()))\n",
    "\n",
    "mdef = mset.difference(nset)\n",
    "ndef = nset.difference(mset)\n",
    "\n",
    "output = mdef.union(ndef)\n",
    "\n",
    "for i in sorted(list(output)):\n",
    "    print(i)"
   ]
  },
  {
   "cell_type": "markdown",
   "id": "731806fe",
   "metadata": {},
   "source": [
    "## Set .add()\n",
    "\n"
   ]
  },
  {
   "cell_type": "code",
   "execution_count": 52,
   "id": "38548160",
   "metadata": {},
   "outputs": [
    {
     "name": "stdout",
     "output_type": "stream",
     "text": [
      "5\n",
      "China\n",
      "India\n",
      "India\n",
      "France\n",
      "US\n",
      "4\n"
     ]
    }
   ],
   "source": [
    "N = int(input())\n",
    "countries = set()\n",
    "for i in range(N):\n",
    "    countries.add(input())\n",
    "print(len(countries))"
   ]
  },
  {
   "cell_type": "markdown",
   "id": "3780f4a8",
   "metadata": {},
   "source": [
    "## Set .discard(), .remove() & .pop()\n",
    "\n"
   ]
  },
  {
   "cell_type": "code",
   "execution_count": 56,
   "id": "6f9aa44b",
   "metadata": {},
   "outputs": [
    {
     "name": "stdout",
     "output_type": "stream",
     "text": [
      "9\n",
      "1 2 3 4 5 6 7 8 9 \n",
      "10\n",
      "pop\n",
      "tremove 4\n",
      "discard 8\n",
      "discard 7\n",
      "pop\n",
      "discard 8\n",
      "remove 5\n",
      "pop\n",
      "remove 5\n",
      "remove 8\n",
      "15\n"
     ]
    }
   ],
   "source": [
    "n = int(input())\n",
    "s = set(map(int, input().split()))\n",
    "                       \n",
    "for i in range(int(input())):\n",
    "    c = input().split()\n",
    "    if c[0] == 'pop':\n",
    "        s.pop()\n",
    "    elif c == 'remove':\n",
    "        s.remove(int(c[1]))\n",
    "    else:\n",
    "        s.discard(int(c[1]))\n",
    "print(sum(s))"
   ]
  },
  {
   "cell_type": "markdown",
   "id": "9d39c0b0",
   "metadata": {},
   "source": [
    "## Set .union() Operation"
   ]
  },
  {
   "cell_type": "code",
   "execution_count": 57,
   "id": "2aeef105",
   "metadata": {},
   "outputs": [
    {
     "name": "stdout",
     "output_type": "stream",
     "text": [
      "9\n",
      "1 2 3 4 5 6 7 8 9\n",
      "9\n",
      "10 1 2 3 11 21 55 6 8\n",
      "13\n"
     ]
    }
   ],
   "source": [
    "N1 = int(input())\n",
    "storage1 = set(input().split());\n",
    "\n",
    "N2 = int(input())\n",
    "storage2 = set(input().split());\n",
    "\n",
    "storage3 = storage1.union(storage2)\n",
    "print(len(storage3))"
   ]
  },
  {
   "cell_type": "markdown",
   "id": "e6f543ef",
   "metadata": {},
   "source": [
    "## Set .intersection() Operation\n",
    "\n"
   ]
  },
  {
   "cell_type": "code",
   "execution_count": 58,
   "id": "d26aab0c",
   "metadata": {},
   "outputs": [
    {
     "name": "stdout",
     "output_type": "stream",
     "text": [
      "9\n",
      "1 2 3 4 5 6 7 8 9\n",
      "9\n",
      "10 1 2 3 11 21 55 6 8\n",
      "5\n"
     ]
    }
   ],
   "source": [
    "N1 = int(input())\n",
    "storage1 = set(input().split())\n",
    "\n",
    "N2 = int(input())\n",
    "storage2 = set(input().split())\n",
    "\n",
    "storage3 = storage2.intersection(storage1)\n",
    "\n",
    "print(len(storage3))"
   ]
  },
  {
   "cell_type": "markdown",
   "id": "be4b6b71",
   "metadata": {},
   "source": [
    "## Set .difference() Operation\n",
    "\n"
   ]
  },
  {
   "cell_type": "code",
   "execution_count": 59,
   "id": "9f04282a",
   "metadata": {},
   "outputs": [
    {
     "name": "stdout",
     "output_type": "stream",
     "text": [
      "9\n",
      "1 2 3 4 5 6 7 8 9 \n",
      "9\n",
      "10 1 2 3 11 21 55 6 8\n",
      "4\n"
     ]
    }
   ],
   "source": [
    "N1 = int(input())\n",
    "storage1 = set(input().split())\n",
    "\n",
    "N2 = int(input())\n",
    "storage2 = set(input().split())\n",
    "\n",
    "storage3 = storage1.difference(storage2)\n",
    "\n",
    "print(len(storage3))"
   ]
  },
  {
   "cell_type": "markdown",
   "id": "1206f114",
   "metadata": {},
   "source": [
    "## Set .symmetric_difference() Operation\n",
    "\n"
   ]
  },
  {
   "cell_type": "code",
   "execution_count": 60,
   "id": "8842cb22",
   "metadata": {},
   "outputs": [
    {
     "name": "stdout",
     "output_type": "stream",
     "text": [
      "9\n",
      "1 2 3 4 5 6 7 8 9\n",
      "9\n",
      "10 1 2 3 11 21 55 6 8\n",
      "8\n"
     ]
    }
   ],
   "source": [
    "N1 = int(input())\n",
    "storage1 = set(input().split())\n",
    "\n",
    "N2 = int(input())\n",
    "storage2 = set(input().split())\n",
    "\n",
    "storage3 = storage1.symmetric_difference(storage2)\n",
    "\n",
    "print(len(storage3))"
   ]
  },
  {
   "cell_type": "markdown",
   "id": "40ca515d",
   "metadata": {},
   "source": [
    "## Set Mutations\n",
    "\n"
   ]
  },
  {
   "cell_type": "code",
   "execution_count": 64,
   "id": "12be877c",
   "metadata": {},
   "outputs": [
    {
     "name": "stdout",
     "output_type": "stream",
     "text": [
      "5\n",
      "1 2 3 4 5\n",
      "4\n",
      "intersection_update 10\n",
      " 2 3 5 6 8 9 1 4 7 11\n",
      "update 2\n",
      "65 67\n",
      "symmetric_difference_update 5\n",
      "56 67 4 45\n",
      "difference_update 7\n",
      "56 4 5 6 7 8 9\n",
      "116\n"
     ]
    }
   ],
   "source": [
    "len_set = int(input())\n",
    "\n",
    "storage = set(map(int, input().split()))\n",
    "\n",
    "op_len = int(input())\n",
    "\n",
    "for i in range(op_len):\n",
    "    operation = input().split()\n",
    "    if operation[0] == 'intersection_update':\n",
    "        temp_storage = set(map(int, input().split()))\n",
    "        storage.intersection_update(temp_storage)\n",
    "    elif operation[0] == 'update':\n",
    "        temp_storage = set(map(int, input().split()))\n",
    "        storage.update(temp_storage)\n",
    "    elif operation[0] == 'symmetric_difference_update':\n",
    "        temp_storage = set(map(int, input().split()))\n",
    "        storage.symmetric_difference_update(temp_storage)\n",
    "    elif operation[0] == 'difference_update':\n",
    "        temp_storage = set(map(int, input().split()))\n",
    "        storage.difference_update(temp_storage)\n",
    "    else :\n",
    "        assert False\n",
    "\n",
    "print(sum(storage))"
   ]
  },
  {
   "cell_type": "markdown",
   "id": "8df529b8",
   "metadata": {},
   "source": [
    "## The Captain's Room\n",
    "\n"
   ]
  },
  {
   "cell_type": "code",
   "execution_count": 1,
   "id": "7a18a7f8",
   "metadata": {},
   "outputs": [
    {
     "name": "stdout",
     "output_type": "stream",
     "text": [
      "5\n",
      "1 2 3 6 5 4 4 2 5 3 6 1 6 5 3 2 4 1 2 5 1 4 3 6 8 4 3 1 5 6 2\n",
      "8\n"
     ]
    }
   ],
   "source": [
    "N = int(input())\n",
    "\n",
    "storage = map(int, input().split())\n",
    "storage = sorted(storage)\n",
    "\n",
    "for i in range(len(storage)):\n",
    "    if(i != len(storage)-1):\n",
    "        if(storage[i]!=storage[i-1] and storage[i]!=storage[i+1]):\n",
    "            print(storage[i])\n",
    "            break;\n",
    "    else:\n",
    "        print(storage[i])"
   ]
  },
  {
   "cell_type": "markdown",
   "id": "3e8e7944",
   "metadata": {},
   "source": [
    "## Check Subset\n",
    "\n"
   ]
  },
  {
   "cell_type": "code",
   "execution_count": 9,
   "id": "3728ee34",
   "metadata": {},
   "outputs": [
    {
     "name": "stdout",
     "output_type": "stream",
     "text": [
      "3\n",
      "5\n",
      "1 2 3 4 5\n",
      "9\n",
      "9 8 5 6 3 2 1 4 7\n",
      "True\n",
      "1 \n",
      "2 \n",
      "5\n",
      "3 6 5 4 1\n",
      "False\n",
      "7\n",
      "1 2 3 5 6 8 9\n",
      "3\n",
      "9 8 2\n",
      "False\n"
     ]
    }
   ],
   "source": [
    "for i in range(int(input())): \n",
    "    a = int(input()); A = set(input().split()) \n",
    "    b = int(input()); B = set(input().split())\n",
    "    print((A & B) == A)"
   ]
  },
  {
   "cell_type": "markdown",
   "id": "edf44599",
   "metadata": {},
   "source": [
    "## No Idea!\n",
    "\n"
   ]
  },
  {
   "cell_type": "code",
   "execution_count": 6,
   "id": "24048038",
   "metadata": {},
   "outputs": [
    {
     "name": "stdout",
     "output_type": "stream",
     "text": [
      "3 2 \n",
      "1 5 3\n",
      "3 1\n",
      "5 7\n",
      "1\n"
     ]
    }
   ],
   "source": [
    "n,m = list(map(int,input().split()))\n",
    "happiness = 0\n",
    "\n",
    "arr = list(map(int,input().strip().split()))\n",
    "A = set(map(int,input().strip().split()))\n",
    "B = set(map(int,input().strip().split()))\n",
    "\n",
    "for i in arr:\n",
    "    if i in A:\n",
    "        happiness += 1\n",
    "    elif i in B:\n",
    "        happiness -= 1\n",
    "print(happiness)"
   ]
  }
 ],
 "metadata": {
  "kernelspec": {
   "display_name": "Python 3",
   "language": "python",
   "name": "python3"
  },
  "language_info": {
   "codemirror_mode": {
    "name": "ipython",
    "version": 3
   },
   "file_extension": ".py",
   "mimetype": "text/x-python",
   "name": "python",
   "nbconvert_exporter": "python",
   "pygments_lexer": "ipython3",
   "version": "3.8.8"
  }
 },
 "nbformat": 4,
 "nbformat_minor": 5
}
