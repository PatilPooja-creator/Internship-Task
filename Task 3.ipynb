{
 "cells": [
  {
   "cell_type": "markdown",
   "id": "129f8869",
   "metadata": {},
   "source": [
    "# Task 3- Math"
   ]
  },
  {
   "cell_type": "markdown",
   "id": "0d1a9a4c",
   "metadata": {},
   "source": [
    "### Polar Coordinates\n",
    "\n"
   ]
  },
  {
   "cell_type": "markdown",
   "id": "fd78de22",
   "metadata": {},
   "source": [
    "**Task**\n",
    "- You are given a complex . Your task is to convert it to polar coordinates.\n",
    "\n",
    "**Input Format**\n",
    "\n",
    "A single line containing the complex number . Note: complex() function can be used in python to convert the input as a complex number.\n",
    "\n",
    "Constraints\n",
    "\n",
    "Given number is a valid complex number\n",
    "\n",
    "Output Format\n",
    "\n",
    "Output two lines:\n",
    "The first line should contain the value of .\n",
    "The second line should contain the value of .\n",
    "\n",
    "Sample Input\n",
    "\n",
    "  1+2j\n",
    "Sample Output\n",
    "\n",
    " 2.23606797749979 \n",
    " 1.1071487177940904\n",
    "Note: The output should be correct up to 3 decimal places."
   ]
  },
  {
   "cell_type": "code",
   "execution_count": 1,
   "id": "a9c4300e",
   "metadata": {},
   "outputs": [
    {
     "name": "stdout",
     "output_type": "stream",
     "text": [
      " 1+2j\n",
      "2.23606797749979\n",
      "1.1071487177940904\n"
     ]
    }
   ],
   "source": [
    "import cmath;\n",
    "\n",
    "num = complex(input())\n",
    "z = complex(num)\n",
    "\n",
    "print(cmath.polar(z)[0])\n",
    "print(cmath.polar(z)[1])"
   ]
  },
  {
   "cell_type": "markdown",
   "id": "1ee39dc2",
   "metadata": {},
   "source": [
    "## Find Angle MBC\n",
    "\n"
   ]
  },
  {
   "cell_type": "code",
   "execution_count": 2,
   "id": "b6606e32",
   "metadata": {},
   "outputs": [
    {
     "name": "stdout",
     "output_type": "stream",
     "text": [
      "10\n",
      "10\n",
      "45°\n"
     ]
    }
   ],
   "source": [
    "import math\n",
    "AB=int(input())\n",
    "BC=int(input())\n",
    "print(round(math.degrees(math.atan(AB/BC))),chr(176),sep=\"\")"
   ]
  },
  {
   "cell_type": "code",
   "execution_count": null,
   "id": "9ea81d31",
   "metadata": {},
   "outputs": [],
   "source": []
  },
  {
   "cell_type": "markdown",
   "id": "0a96b1a4",
   "metadata": {},
   "source": [
    "## Triangle Quest 2\n",
    "\n"
   ]
  },
  {
   "cell_type": "code",
   "execution_count": 3,
   "id": "ebf68f23",
   "metadata": {},
   "outputs": [
    {
     "name": "stdout",
     "output_type": "stream",
     "text": [
      "5\n",
      "1\n",
      "121\n",
      "12321\n",
      "1234321\n",
      "123454321\n"
     ]
    }
   ],
   "source": [
    "for i in range(1, int(input()) + 1):  # More than 2 lines will result in 0 score. Do not leave a blank line also\n",
    "    print((10 ** i - 1) ** 2 // 81)"
   ]
  },
  {
   "cell_type": "markdown",
   "id": "addb9cef",
   "metadata": {},
   "source": [
    "## Mod Divmod\n",
    "\n"
   ]
  },
  {
   "cell_type": "markdown",
   "id": "0381e705",
   "metadata": {},
   "source": [
    "**Task**\n",
    "Read in two integers,  and , and print three lines.\n",
    "- The first line is the integer division  (While using Python2 remember to import division from __future__).\n",
    "- The second line is the result of the modulo operator: .\n",
    "- The third line prints the divmod of  and .\n",
    "\n",
    "**Input Format**\n",
    "- The first line contains the first integer, , and the second line contains the second integer, .\n",
    "\n",
    "**Output Format**\n",
    "- Print the result as described above.\n",
    "\n",
    "**Sample Input**\n",
    "\n",
    "- 177\n",
    "- 10\n",
    "\n",
    "**Sample Output**\n",
    "\n",
    "- 17\n",
    "- 7\n",
    "- (17, 7)"
   ]
  },
  {
   "cell_type": "code",
   "execution_count": 4,
   "id": "808fef78",
   "metadata": {},
   "outputs": [
    {
     "name": "stdout",
     "output_type": "stream",
     "text": [
      "177\n",
      "10\n",
      "17\n",
      "7\n",
      "(17, 7)\n"
     ]
    }
   ],
   "source": [
    "a = int(input())\n",
    "b = int(input())\n",
    "\n",
    "print (a // b)\n",
    "print (a % b)\n",
    "print (divmod(a,b))"
   ]
  },
  {
   "cell_type": "markdown",
   "id": "9b3ceb9e",
   "metadata": {},
   "source": [
    "## Power - Mod Power\n",
    "\n"
   ]
  },
  {
   "cell_type": "markdown",
   "id": "ae94c110",
   "metadata": {},
   "source": [
    "**Task**\n",
    "You are given three integers: , , and . Print two lines.\n",
    "On the first line, print the result of pow(a,b). On the second line, print the result of pow(a,b,m).\n",
    "\n",
    "**Input Format**\n",
    "The first line contains , the second line contains , and the third line contains .\n",
    "\n",
    "\n",
    "\n",
    "\n",
    "**Sample Input**\n",
    "\n",
    "- 3\n",
    "- 4\n",
    "- 5\n",
    "\n",
    "**Sample Output**\n",
    "\n",
    "- 81\n",
    "- 1"
   ]
  },
  {
   "cell_type": "code",
   "execution_count": 5,
   "id": "9ec1a95f",
   "metadata": {},
   "outputs": [
    {
     "name": "stdout",
     "output_type": "stream",
     "text": [
      "3\n",
      "4\n",
      "5\n",
      "81\n",
      "1\n"
     ]
    }
   ],
   "source": [
    "a = int(input())\n",
    "b = int(input())\n",
    "m = int(input())\n",
    "\n",
    "print (pow(a,b))\n",
    "print (pow(a,b,m))"
   ]
  },
  {
   "cell_type": "markdown",
   "id": "fd1e57cf",
   "metadata": {},
   "source": [
    "## Integers Come In All Sizes"
   ]
  },
  {
   "cell_type": "markdown",
   "id": "dbf4468a",
   "metadata": {},
   "source": [
    "**Task**\n",
    "Read four numbers, , , , and , and print the result of .\n",
    "\n",
    "**Input Format**\n",
    "Integers a,b ,c , and  are given on four separate lines, respectively.\n",
    "\n",
    "**Output Format**\n",
    "Print the result of  on one line.\n",
    "\n",
    "**Sample Input**\n",
    "\n",
    "- 9\n",
    "- 29\n",
    "- 7\n",
    "- 27\n",
    "\n",
    "**Sample Output**\n",
    "\n",
    "- 4710194409608608369201743232  "
   ]
  },
  {
   "cell_type": "code",
   "execution_count": 6,
   "id": "665b4973",
   "metadata": {},
   "outputs": [
    {
     "name": "stdout",
     "output_type": "stream",
     "text": [
      "9\n",
      "29\n",
      "7\n",
      "27\n",
      "4710194409608608369201743232\n"
     ]
    }
   ],
   "source": [
    "a = int(input())\n",
    "b = int(input())\n",
    "c = int(input())\n",
    "d = int(input())\n",
    "\n",
    "print((a**b)+(c**d))"
   ]
  },
  {
   "cell_type": "markdown",
   "id": "5fbcbfe1",
   "metadata": {},
   "source": [
    "## Triangle Quest"
   ]
  },
  {
   "cell_type": "code",
   "execution_count": 1,
   "id": "696d9770",
   "metadata": {},
   "outputs": [
    {
     "name": "stdout",
     "output_type": "stream",
     "text": [
      "5\n",
      "1\n",
      "22\n",
      "333\n",
      "4444\n"
     ]
    }
   ],
   "source": [
    "for i in range(1,int(input())): \n",
    "    print(int(i * 10**i / 9))"
   ]
  }
 ],
 "metadata": {
  "kernelspec": {
   "display_name": "Python 3",
   "language": "python",
   "name": "python3"
  },
  "language_info": {
   "codemirror_mode": {
    "name": "ipython",
    "version": 3
   },
   "file_extension": ".py",
   "mimetype": "text/x-python",
   "name": "python",
   "nbconvert_exporter": "python",
   "pygments_lexer": "ipython3",
   "version": "3.8.8"
  }
 },
 "nbformat": 4,
 "nbformat_minor": 5
}
